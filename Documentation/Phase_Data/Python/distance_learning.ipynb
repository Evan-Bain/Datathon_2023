{
 "cells": [
  {
   "cell_type": "markdown",
   "source": [
    "# Distance Learning"
   ],
   "metadata": {
    "collapsed": false
   },
   "id": "c176026a1df17b8c"
  },
  {
   "cell_type": "markdown",
   "source": [
    "#### Question: Is there enough data on distance learning to consider it further data analysis?"
   ],
   "metadata": {
    "collapsed": false
   },
   "id": "69ed40770075b5b9"
  },
  {
   "cell_type": "code",
   "execution_count": null,
   "outputs": [],
   "source": [],
   "metadata": {
    "collapsed": false
   },
   "id": "3d9971802425fa1c"
  }
 ],
 "metadata": {
  "kernelspec": {
   "display_name": "Python 3",
   "language": "python",
   "name": "python3"
  },
  "language_info": {
   "codemirror_mode": {
    "name": "ipython",
    "version": 2
   },
   "file_extension": ".py",
   "mimetype": "text/x-python",
   "name": "python",
   "nbconvert_exporter": "python",
   "pygments_lexer": "ipython2",
   "version": "2.7.6"
  }
 },
 "nbformat": 4,
 "nbformat_minor": 5
}
