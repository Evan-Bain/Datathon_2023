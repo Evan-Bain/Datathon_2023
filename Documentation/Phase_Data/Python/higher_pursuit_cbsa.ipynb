{
 "cells": [
  {
   "cell_type": "markdown",
   "source": [
    "# Higher Educational Pursuit & CBSAs"
   ],
   "metadata": {
    "collapsed": false
   },
   "id": "26a00473fe1e8969"
  },
  {
   "cell_type": "markdown",
   "source": [
    "### Question: Is there a correlation between higher educational pursuit and CBSAs (Core Based Statistical Areas)?"
   ],
   "metadata": {
    "collapsed": false
   },
   "id": "3408d6886c8e7192"
  },
  {
   "cell_type": "markdown",
   "source": [
    "#### Datasets Needed:\n",
    "###### 1. Advanced Placement\n",
    "###### 2. Dual Enrollment\n",
    "###### 3. SAT and ACT\n",
    "###### 4. grf17_lea_cbsa\n",
    "###### 5. LEA Characteristics "
   ],
   "metadata": {
    "collapsed": false
   },
   "id": "63a56343b65cb6de"
  },
  {
   "cell_type": "markdown",
   "source": [
    "#### Columns Needed:\n",
    "\n",
    "##### For All: ['LEAID']\n",
    "###### 1. ['TOT_APEXAM_ONEORMORE_F', 'TOT_APEXAM_ONEORMORE_M']\n",
    "###### 2. ['TOT_DUAL_M', 'TOT_DUAL_F']\n",
    "###### 3. ['TOT_SATACT_M', 'TOT_SATACT_F']\n",
    "###### 4. ['CBSA', 'NAME_CBSA17']\n",
    "###### 5. ['LEA_ENR']"
   ],
   "metadata": {
    "collapsed": false
   },
   "id": "62da89a076f4852a"
  },
  {
   "cell_type": "code",
   "execution_count": 93,
   "outputs": [],
   "source": [
    "import pandas as pd\n",
    "def ap_dataframe():\n",
    "    columns = ['LEAID','TOT_APEXAM_ONEORMORE_F', 'TOT_APEXAM_ONEORMORE_M']\n",
    "    \n",
    "    ap_df = pd.read_csv('C:/Users/evanj/OneDrive/Documents/2017-18 Public-Use Files/Data/SCH/CRDC/CSV/Advanced Placement.csv',usecols=columns, encoding='ISO-8859-1', index_col='LEAID', dtype={'LEAID': str, 'TOT_APEXAM_ONEORMORE_F': int, 'TOT_APEXAM_ONEORMORE_M': int})\n",
    "    \n",
    "    ap_df = ap_df[(ap_df['TOT_APEXAM_ONEORMORE_F'] >= 0) & (ap_df['TOT_APEXAM_ONEORMORE_M'] >= 0)]\n",
    "    \n",
    "    ap_df = ap_df.groupby('LEAID').sum()\n",
    "    \n",
    "    ap_df['TOT_APEXAM_ONEORMORE'] = ap_df['TOT_APEXAM_ONEORMORE_F'] + ap_df['TOT_APEXAM_ONEORMORE_M']\n",
    "    ap_df = ap_df.drop(['TOT_APEXAM_ONEORMORE_F', 'TOT_APEXAM_ONEORMORE_M'], axis=1)\n",
    "\n",
    "    return ap_df"
   ],
   "metadata": {
    "collapsed": false,
    "ExecuteTime": {
     "end_time": "2023-10-29T14:11:57.115153500Z",
     "start_time": "2023-10-29T14:11:57.061863800Z"
    }
   },
   "id": "e7e6c4c44b3ccef0"
  },
  {
   "cell_type": "code",
   "execution_count": 94,
   "outputs": [
    {
     "data": {
      "text/plain": "         TOT_APEXAM_ONEORMORE\nLEAID                        \n0100005                   286\n0100006                   597\n0100007                   926\n0100008                   701\n0100011                   105\n...                       ...\n5605762                    55\n5605830                   242\n5606090                     6\n5606240                    43\n7200030                  4323\n\n[8126 rows x 1 columns]",
      "text/html": "<div>\n<style scoped>\n    .dataframe tbody tr th:only-of-type {\n        vertical-align: middle;\n    }\n\n    .dataframe tbody tr th {\n        vertical-align: top;\n    }\n\n    .dataframe thead th {\n        text-align: right;\n    }\n</style>\n<table border=\"1\" class=\"dataframe\">\n  <thead>\n    <tr style=\"text-align: right;\">\n      <th></th>\n      <th>TOT_APEXAM_ONEORMORE</th>\n    </tr>\n    <tr>\n      <th>LEAID</th>\n      <th></th>\n    </tr>\n  </thead>\n  <tbody>\n    <tr>\n      <th>0100005</th>\n      <td>286</td>\n    </tr>\n    <tr>\n      <th>0100006</th>\n      <td>597</td>\n    </tr>\n    <tr>\n      <th>0100007</th>\n      <td>926</td>\n    </tr>\n    <tr>\n      <th>0100008</th>\n      <td>701</td>\n    </tr>\n    <tr>\n      <th>0100011</th>\n      <td>105</td>\n    </tr>\n    <tr>\n      <th>...</th>\n      <td>...</td>\n    </tr>\n    <tr>\n      <th>5605762</th>\n      <td>55</td>\n    </tr>\n    <tr>\n      <th>5605830</th>\n      <td>242</td>\n    </tr>\n    <tr>\n      <th>5606090</th>\n      <td>6</td>\n    </tr>\n    <tr>\n      <th>5606240</th>\n      <td>43</td>\n    </tr>\n    <tr>\n      <th>7200030</th>\n      <td>4323</td>\n    </tr>\n  </tbody>\n</table>\n<p>8126 rows × 1 columns</p>\n</div>"
     },
     "execution_count": 94,
     "metadata": {},
     "output_type": "execute_result"
    }
   ],
   "source": [
    "ap_dataframe()"
   ],
   "metadata": {
    "collapsed": false,
    "ExecuteTime": {
     "end_time": "2023-10-29T14:11:57.323116700Z",
     "start_time": "2023-10-29T14:11:57.062376700Z"
    }
   },
   "id": "2f7bb9efb1f533d"
  },
  {
   "cell_type": "code",
   "execution_count": 95,
   "outputs": [],
   "source": [
    "def dual_dataframe():\n",
    "    columns = ['LEAID','TOT_DUAL_F', 'TOT_DUAL_M']\n",
    "\n",
    "    dual_df = pd.read_csv('C:/Users/evanj/OneDrive/Documents/2017-18 Public-Use Files/Data/SCH/CRDC/CSV/Dual Enrollment.csv',usecols=columns, encoding='ISO-8859-1', index_col='LEAID', dtype={'LEAID': str, 'TOT_DUAL_F': int, 'TOT_DUAL_M': int})\n",
    "    \n",
    "    dual_df = dual_df[(dual_df['TOT_DUAL_F'] >= 0) & (dual_df['TOT_DUAL_M'] >= 0)]\n",
    "\n",
    "    dual_df = dual_df.groupby('LEAID').sum()\n",
    "\n",
    "    dual_df['TOT_DUAL'] = dual_df['TOT_DUAL_F'] + dual_df['TOT_DUAL_M']\n",
    "    dual_df = dual_df.drop(['TOT_DUAL_F', 'TOT_DUAL_M'], axis=1)\n",
    "\n",
    "    return dual_df"
   ],
   "metadata": {
    "collapsed": false,
    "ExecuteTime": {
     "end_time": "2023-10-29T14:11:57.323116700Z",
     "start_time": "2023-10-29T14:11:57.318928600Z"
    }
   },
   "id": "b06c4c04386fd9ec"
  },
  {
   "cell_type": "code",
   "execution_count": 96,
   "outputs": [
    {
     "data": {
      "text/plain": "         TOT_DUAL\nLEAID            \n0100005        34\n0100006       108\n0100007       227\n0100008       176\n0100009         6\n...           ...\n5605820         3\n5605830       424\n5606090        41\n5606240        52\n5680251         5\n\n[10148 rows x 1 columns]",
      "text/html": "<div>\n<style scoped>\n    .dataframe tbody tr th:only-of-type {\n        vertical-align: middle;\n    }\n\n    .dataframe tbody tr th {\n        vertical-align: top;\n    }\n\n    .dataframe thead th {\n        text-align: right;\n    }\n</style>\n<table border=\"1\" class=\"dataframe\">\n  <thead>\n    <tr style=\"text-align: right;\">\n      <th></th>\n      <th>TOT_DUAL</th>\n    </tr>\n    <tr>\n      <th>LEAID</th>\n      <th></th>\n    </tr>\n  </thead>\n  <tbody>\n    <tr>\n      <th>0100005</th>\n      <td>34</td>\n    </tr>\n    <tr>\n      <th>0100006</th>\n      <td>108</td>\n    </tr>\n    <tr>\n      <th>0100007</th>\n      <td>227</td>\n    </tr>\n    <tr>\n      <th>0100008</th>\n      <td>176</td>\n    </tr>\n    <tr>\n      <th>0100009</th>\n      <td>6</td>\n    </tr>\n    <tr>\n      <th>...</th>\n      <td>...</td>\n    </tr>\n    <tr>\n      <th>5605820</th>\n      <td>3</td>\n    </tr>\n    <tr>\n      <th>5605830</th>\n      <td>424</td>\n    </tr>\n    <tr>\n      <th>5606090</th>\n      <td>41</td>\n    </tr>\n    <tr>\n      <th>5606240</th>\n      <td>52</td>\n    </tr>\n    <tr>\n      <th>5680251</th>\n      <td>5</td>\n    </tr>\n  </tbody>\n</table>\n<p>10148 rows × 1 columns</p>\n</div>"
     },
     "execution_count": 96,
     "metadata": {},
     "output_type": "execute_result"
    }
   ],
   "source": [
    "dual_dataframe()"
   ],
   "metadata": {
    "collapsed": false,
    "ExecuteTime": {
     "end_time": "2023-10-29T14:11:57.475538600Z",
     "start_time": "2023-10-29T14:11:57.323116700Z"
    }
   },
   "id": "cab6cb88b013d514"
  },
  {
   "cell_type": "code",
   "execution_count": 97,
   "outputs": [],
   "source": [
    "def sat_act_dataframe():\n",
    "    columns = ['LEAID','TOT_SATACT_F', 'TOT_SATACT_M']\n",
    "\n",
    "    sat_act_df = pd.read_csv('C:/Users/evanj/OneDrive/Documents/2017-18 Public-Use Files/Data/SCH/CRDC/CSV/SAT and ACT.csv',usecols=columns, encoding='ISO-8859-1', index_col='LEAID', dtype={'LEAID': str, 'TOT_SATACT_F': int, 'TOT_SATACT_M': int})\n",
    "    \n",
    "    sat_act_df = sat_act_df[(sat_act_df['TOT_SATACT_F'] >= 0) & (sat_act_df['TOT_SATACT_M'] >= 0)]\n",
    "\n",
    "    sat_act_df = sat_act_df.groupby('LEAID').sum()\n",
    "\n",
    "    sat_act_df['TOT_SATACT'] = sat_act_df['TOT_SATACT_F'] + sat_act_df['TOT_SATACT_M']\n",
    "    sat_act_df = sat_act_df.drop(['TOT_SATACT_F', 'TOT_SATACT_M'], axis=1)\n",
    "\n",
    "    return sat_act_df"
   ],
   "metadata": {
    "collapsed": false,
    "ExecuteTime": {
     "end_time": "2023-10-29T14:11:57.475538600Z",
     "start_time": "2023-10-29T14:11:57.450653200Z"
    }
   },
   "id": "4d6823bcbfe53ba9"
  },
  {
   "cell_type": "code",
   "execution_count": 98,
   "outputs": [
    {
     "data": {
      "text/plain": "         TOT_SATACT\nLEAID              \n0100002          33\n0100005         363\n0100006         382\n0100007        1836\n0100008        1012\n...             ...\n5680251          20\n5680252          16\n5680254          40\n5680255           2\n7200030           0\n\n[13222 rows x 1 columns]",
      "text/html": "<div>\n<style scoped>\n    .dataframe tbody tr th:only-of-type {\n        vertical-align: middle;\n    }\n\n    .dataframe tbody tr th {\n        vertical-align: top;\n    }\n\n    .dataframe thead th {\n        text-align: right;\n    }\n</style>\n<table border=\"1\" class=\"dataframe\">\n  <thead>\n    <tr style=\"text-align: right;\">\n      <th></th>\n      <th>TOT_SATACT</th>\n    </tr>\n    <tr>\n      <th>LEAID</th>\n      <th></th>\n    </tr>\n  </thead>\n  <tbody>\n    <tr>\n      <th>0100002</th>\n      <td>33</td>\n    </tr>\n    <tr>\n      <th>0100005</th>\n      <td>363</td>\n    </tr>\n    <tr>\n      <th>0100006</th>\n      <td>382</td>\n    </tr>\n    <tr>\n      <th>0100007</th>\n      <td>1836</td>\n    </tr>\n    <tr>\n      <th>0100008</th>\n      <td>1012</td>\n    </tr>\n    <tr>\n      <th>...</th>\n      <td>...</td>\n    </tr>\n    <tr>\n      <th>5680251</th>\n      <td>20</td>\n    </tr>\n    <tr>\n      <th>5680252</th>\n      <td>16</td>\n    </tr>\n    <tr>\n      <th>5680254</th>\n      <td>40</td>\n    </tr>\n    <tr>\n      <th>5680255</th>\n      <td>2</td>\n    </tr>\n    <tr>\n      <th>7200030</th>\n      <td>0</td>\n    </tr>\n  </tbody>\n</table>\n<p>13222 rows × 1 columns</p>\n</div>"
     },
     "execution_count": 98,
     "metadata": {},
     "output_type": "execute_result"
    }
   ],
   "source": [
    "sat_act_dataframe()"
   ],
   "metadata": {
    "collapsed": false,
    "ExecuteTime": {
     "end_time": "2023-10-29T14:11:57.648398900Z",
     "start_time": "2023-10-29T14:11:57.459905100Z"
    }
   },
   "id": "81a6c5aedaf2cf76"
  },
  {
   "cell_type": "code",
   "execution_count": 99,
   "outputs": [],
   "source": [
    "def cbsa_dataframe():\n",
    "    columns = ['LEAID','CBSA', 'NAME_CBSA17']\n",
    "\n",
    "    cbsa_df = pd.read_excel('D:\\Data\\GRF17\\GRF17\\grf17_lea_cbsa.xlsx', usecols=columns, index_col=0, dtype={'LEAID': str, 'CBSA': int, 'NAME_CBSA17': str})\n",
    "\n",
    "    cbsa_df = cbsa_df.groupby('LEAID').sum()\n",
    "\n",
    "    return cbsa_df"
   ],
   "metadata": {
    "collapsed": false,
    "ExecuteTime": {
     "end_time": "2023-10-29T14:11:57.648398900Z",
     "start_time": "2023-10-29T14:11:57.577838800Z"
    }
   },
   "id": "70b17225e54502c8"
  },
  {
   "cell_type": "code",
   "execution_count": 100,
   "outputs": [
    {
     "data": {
      "text/plain": "           CBSA                                        NAME_CBSA17\nLEAID                                                             \n0100001   58580      Enterprise, AL Micro AreaOzark, AL Micro Area\n0100003   33860                          Montgomery, AL Metro Area\n0100005   10700                         Albertville, AL Micro Area\n0100006   10700                         Albertville, AL Micro Area\n0100007   13820                   Birmingham-Hoover, AL Metro Area\n...         ...                                                ...\n6000030       0                                        NOT IN CBSA\n6600040       0                                        NOT IN CBSA\n6900030       0                                        NOT IN CBSA\n7200030  317280  NOT IN CBSAAdjuntas, PR Micro AreaAguadilla-Is...\n7800030       0                                        NOT IN CBSA\n\n[13331 rows x 2 columns]",
      "text/html": "<div>\n<style scoped>\n    .dataframe tbody tr th:only-of-type {\n        vertical-align: middle;\n    }\n\n    .dataframe tbody tr th {\n        vertical-align: top;\n    }\n\n    .dataframe thead th {\n        text-align: right;\n    }\n</style>\n<table border=\"1\" class=\"dataframe\">\n  <thead>\n    <tr style=\"text-align: right;\">\n      <th></th>\n      <th>CBSA</th>\n      <th>NAME_CBSA17</th>\n    </tr>\n    <tr>\n      <th>LEAID</th>\n      <th></th>\n      <th></th>\n    </tr>\n  </thead>\n  <tbody>\n    <tr>\n      <th>0100001</th>\n      <td>58580</td>\n      <td>Enterprise, AL Micro AreaOzark, AL Micro Area</td>\n    </tr>\n    <tr>\n      <th>0100003</th>\n      <td>33860</td>\n      <td>Montgomery, AL Metro Area</td>\n    </tr>\n    <tr>\n      <th>0100005</th>\n      <td>10700</td>\n      <td>Albertville, AL Micro Area</td>\n    </tr>\n    <tr>\n      <th>0100006</th>\n      <td>10700</td>\n      <td>Albertville, AL Micro Area</td>\n    </tr>\n    <tr>\n      <th>0100007</th>\n      <td>13820</td>\n      <td>Birmingham-Hoover, AL Metro Area</td>\n    </tr>\n    <tr>\n      <th>...</th>\n      <td>...</td>\n      <td>...</td>\n    </tr>\n    <tr>\n      <th>6000030</th>\n      <td>0</td>\n      <td>NOT IN CBSA</td>\n    </tr>\n    <tr>\n      <th>6600040</th>\n      <td>0</td>\n      <td>NOT IN CBSA</td>\n    </tr>\n    <tr>\n      <th>6900030</th>\n      <td>0</td>\n      <td>NOT IN CBSA</td>\n    </tr>\n    <tr>\n      <th>7200030</th>\n      <td>317280</td>\n      <td>NOT IN CBSAAdjuntas, PR Micro AreaAguadilla-Is...</td>\n    </tr>\n    <tr>\n      <th>7800030</th>\n      <td>0</td>\n      <td>NOT IN CBSA</td>\n    </tr>\n  </tbody>\n</table>\n<p>13331 rows × 2 columns</p>\n</div>"
     },
     "execution_count": 100,
     "metadata": {},
     "output_type": "execute_result"
    }
   ],
   "source": [
    "cbsa_dataframe()"
   ],
   "metadata": {
    "collapsed": false,
    "ExecuteTime": {
     "end_time": "2023-10-29T14:11:58.930269800Z",
     "start_time": "2023-10-29T14:11:57.585892Z"
    }
   },
   "id": "8157d778a30fe556"
  },
  {
   "cell_type": "code",
   "execution_count": 128,
   "outputs": [],
   "source": [
    "def enr_dataframe():\n",
    "    columns = ['LEAID','LEA_ENR']\n",
    "\n",
    "    enr_df = pd.read_csv('C:/Users/evanj/OneDrive/Documents/2017-18 Public-Use Files/Data/LEA/CRDC/CSV/LEA Characteristics.csv',usecols=columns, encoding='ISO-8859-1', index_col='LEAID', dtype={'LEAID': str, 'LEA_ENR': int})\n",
    "\n",
    "    enr_df = enr_df[(enr_df['LEA_ENR'] >= 0)]\n",
    "\n",
    "    return enr_df"
   ],
   "metadata": {
    "collapsed": false,
    "ExecuteTime": {
     "end_time": "2023-10-29T15:06:36.784535800Z",
     "start_time": "2023-10-29T15:06:36.773935400Z"
    }
   },
   "id": "e186440f1d646a05"
  },
  {
   "cell_type": "code",
   "execution_count": 129,
   "outputs": [
    {
     "data": {
      "text/plain": "         LEA_ENR\nLEAID           \n0100002      280\n0100005     5445\n0100006     5698\n0100007    14372\n0100008    10810\n...          ...\n5680251      162\n5680252       34\n5680254      243\n5680255       31\n7200030   348303\n\n[17603 rows x 1 columns]",
      "text/html": "<div>\n<style scoped>\n    .dataframe tbody tr th:only-of-type {\n        vertical-align: middle;\n    }\n\n    .dataframe tbody tr th {\n        vertical-align: top;\n    }\n\n    .dataframe thead th {\n        text-align: right;\n    }\n</style>\n<table border=\"1\" class=\"dataframe\">\n  <thead>\n    <tr style=\"text-align: right;\">\n      <th></th>\n      <th>LEA_ENR</th>\n    </tr>\n    <tr>\n      <th>LEAID</th>\n      <th></th>\n    </tr>\n  </thead>\n  <tbody>\n    <tr>\n      <th>0100002</th>\n      <td>280</td>\n    </tr>\n    <tr>\n      <th>0100005</th>\n      <td>5445</td>\n    </tr>\n    <tr>\n      <th>0100006</th>\n      <td>5698</td>\n    </tr>\n    <tr>\n      <th>0100007</th>\n      <td>14372</td>\n    </tr>\n    <tr>\n      <th>0100008</th>\n      <td>10810</td>\n    </tr>\n    <tr>\n      <th>...</th>\n      <td>...</td>\n    </tr>\n    <tr>\n      <th>5680251</th>\n      <td>162</td>\n    </tr>\n    <tr>\n      <th>5680252</th>\n      <td>34</td>\n    </tr>\n    <tr>\n      <th>5680254</th>\n      <td>243</td>\n    </tr>\n    <tr>\n      <th>5680255</th>\n      <td>31</td>\n    </tr>\n    <tr>\n      <th>7200030</th>\n      <td>348303</td>\n    </tr>\n  </tbody>\n</table>\n<p>17603 rows × 1 columns</p>\n</div>"
     },
     "execution_count": 129,
     "metadata": {},
     "output_type": "execute_result"
    }
   ],
   "source": [
    "enr_dataframe()"
   ],
   "metadata": {
    "collapsed": false,
    "ExecuteTime": {
     "end_time": "2023-10-29T15:06:55.014284600Z",
     "start_time": "2023-10-29T15:06:54.952333300Z"
    }
   },
   "id": "91ace8db4da09204"
  },
  {
   "cell_type": "code",
   "execution_count": 101,
   "outputs": [],
   "source": [
    "df_ap = ap_dataframe()"
   ],
   "metadata": {
    "collapsed": false,
    "ExecuteTime": {
     "end_time": "2023-10-29T14:11:59.171168800Z",
     "start_time": "2023-10-29T14:11:58.930269800Z"
    }
   },
   "id": "f40b72fb3c2a27ff"
  },
  {
   "cell_type": "code",
   "execution_count": 102,
   "outputs": [],
   "source": [
    "df_dual = dual_dataframe()"
   ],
   "metadata": {
    "collapsed": false,
    "ExecuteTime": {
     "end_time": "2023-10-29T14:11:59.280339900Z",
     "start_time": "2023-10-29T14:11:59.171168800Z"
    }
   },
   "id": "d1c4b0238f660d23"
  },
  {
   "cell_type": "code",
   "execution_count": 103,
   "outputs": [],
   "source": [
    "df_sat_act = sat_act_dataframe()"
   ],
   "metadata": {
    "collapsed": false,
    "ExecuteTime": {
     "end_time": "2023-10-29T14:11:59.386413600Z",
     "start_time": "2023-10-29T14:11:59.280339900Z"
    }
   },
   "id": "1528dab48cdffdd4"
  },
  {
   "cell_type": "code",
   "execution_count": 104,
   "outputs": [],
   "source": [
    "df_cbsa = cbsa_dataframe()"
   ],
   "metadata": {
    "collapsed": false,
    "ExecuteTime": {
     "end_time": "2023-10-29T14:12:00.799397800Z",
     "start_time": "2023-10-29T14:11:59.386413600Z"
    }
   },
   "id": "6531e1b4d8d7d52f"
  },
  {
   "cell_type": "code",
   "execution_count": 130,
   "outputs": [],
   "source": [
    "df_enr = enr_dataframe()"
   ],
   "metadata": {
    "collapsed": false,
    "ExecuteTime": {
     "end_time": "2023-10-29T15:07:18.278986Z",
     "start_time": "2023-10-29T15:07:18.213655Z"
    }
   },
   "id": "d2de75e9e9e68ed4"
  },
  {
   "cell_type": "code",
   "execution_count": 105,
   "outputs": [
    {
     "data": {
      "text/plain": "         TOT_APEXAM_ONEORMORE  TOT_DUAL\nLEAID                                  \n0100005                   286        34\n0100006                   597       108\n0100007                   926       227\n0100008                   701       176\n0100011                   105         1\n...                       ...       ...\n5605695                   137        65\n5605762                    55        98\n5605830                   242       424\n5606090                     6        41\n5606240                    43        52\n\n[6776 rows x 2 columns]",
      "text/html": "<div>\n<style scoped>\n    .dataframe tbody tr th:only-of-type {\n        vertical-align: middle;\n    }\n\n    .dataframe tbody tr th {\n        vertical-align: top;\n    }\n\n    .dataframe thead th {\n        text-align: right;\n    }\n</style>\n<table border=\"1\" class=\"dataframe\">\n  <thead>\n    <tr style=\"text-align: right;\">\n      <th></th>\n      <th>TOT_APEXAM_ONEORMORE</th>\n      <th>TOT_DUAL</th>\n    </tr>\n    <tr>\n      <th>LEAID</th>\n      <th></th>\n      <th></th>\n    </tr>\n  </thead>\n  <tbody>\n    <tr>\n      <th>0100005</th>\n      <td>286</td>\n      <td>34</td>\n    </tr>\n    <tr>\n      <th>0100006</th>\n      <td>597</td>\n      <td>108</td>\n    </tr>\n    <tr>\n      <th>0100007</th>\n      <td>926</td>\n      <td>227</td>\n    </tr>\n    <tr>\n      <th>0100008</th>\n      <td>701</td>\n      <td>176</td>\n    </tr>\n    <tr>\n      <th>0100011</th>\n      <td>105</td>\n      <td>1</td>\n    </tr>\n    <tr>\n      <th>...</th>\n      <td>...</td>\n      <td>...</td>\n    </tr>\n    <tr>\n      <th>5605695</th>\n      <td>137</td>\n      <td>65</td>\n    </tr>\n    <tr>\n      <th>5605762</th>\n      <td>55</td>\n      <td>98</td>\n    </tr>\n    <tr>\n      <th>5605830</th>\n      <td>242</td>\n      <td>424</td>\n    </tr>\n    <tr>\n      <th>5606090</th>\n      <td>6</td>\n      <td>41</td>\n    </tr>\n    <tr>\n      <th>5606240</th>\n      <td>43</td>\n      <td>52</td>\n    </tr>\n  </tbody>\n</table>\n<p>6776 rows × 2 columns</p>\n</div>"
     },
     "execution_count": 105,
     "metadata": {},
     "output_type": "execute_result"
    }
   ],
   "source": [
    "ap_dual_df = df_ap.merge(df_dual, how= 'inner', on = 'LEAID')\n",
    "\n",
    "ap_dual_df"
   ],
   "metadata": {
    "collapsed": false,
    "ExecuteTime": {
     "end_time": "2023-10-29T14:12:00.816200900Z",
     "start_time": "2023-10-29T14:12:00.799397800Z"
    }
   },
   "id": "c4b5b63853b5e4b1"
  },
  {
   "cell_type": "code",
   "execution_count": 106,
   "outputs": [
    {
     "data": {
      "text/plain": "         TOT_APEXAM_ONEORMORE  TOT_DUAL  TOT_SATACT\nLEAID                                              \n0100005                   286        34         363\n0100006                   597       108         382\n0100007                   926       227        1836\n0100008                   701       176        1012\n0100011                   105         1          97\n...                       ...       ...         ...\n5605695                   137        65         314\n5605762                    55        98         287\n5605830                   242       424         176\n5606090                     6        41          18\n5606240                    43        52          42\n\n[6776 rows x 3 columns]",
      "text/html": "<div>\n<style scoped>\n    .dataframe tbody tr th:only-of-type {\n        vertical-align: middle;\n    }\n\n    .dataframe tbody tr th {\n        vertical-align: top;\n    }\n\n    .dataframe thead th {\n        text-align: right;\n    }\n</style>\n<table border=\"1\" class=\"dataframe\">\n  <thead>\n    <tr style=\"text-align: right;\">\n      <th></th>\n      <th>TOT_APEXAM_ONEORMORE</th>\n      <th>TOT_DUAL</th>\n      <th>TOT_SATACT</th>\n    </tr>\n    <tr>\n      <th>LEAID</th>\n      <th></th>\n      <th></th>\n      <th></th>\n    </tr>\n  </thead>\n  <tbody>\n    <tr>\n      <th>0100005</th>\n      <td>286</td>\n      <td>34</td>\n      <td>363</td>\n    </tr>\n    <tr>\n      <th>0100006</th>\n      <td>597</td>\n      <td>108</td>\n      <td>382</td>\n    </tr>\n    <tr>\n      <th>0100007</th>\n      <td>926</td>\n      <td>227</td>\n      <td>1836</td>\n    </tr>\n    <tr>\n      <th>0100008</th>\n      <td>701</td>\n      <td>176</td>\n      <td>1012</td>\n    </tr>\n    <tr>\n      <th>0100011</th>\n      <td>105</td>\n      <td>1</td>\n      <td>97</td>\n    </tr>\n    <tr>\n      <th>...</th>\n      <td>...</td>\n      <td>...</td>\n      <td>...</td>\n    </tr>\n    <tr>\n      <th>5605695</th>\n      <td>137</td>\n      <td>65</td>\n      <td>314</td>\n    </tr>\n    <tr>\n      <th>5605762</th>\n      <td>55</td>\n      <td>98</td>\n      <td>287</td>\n    </tr>\n    <tr>\n      <th>5605830</th>\n      <td>242</td>\n      <td>424</td>\n      <td>176</td>\n    </tr>\n    <tr>\n      <th>5606090</th>\n      <td>6</td>\n      <td>41</td>\n      <td>18</td>\n    </tr>\n    <tr>\n      <th>5606240</th>\n      <td>43</td>\n      <td>52</td>\n      <td>42</td>\n    </tr>\n  </tbody>\n</table>\n<p>6776 rows × 3 columns</p>\n</div>"
     },
     "execution_count": 106,
     "metadata": {},
     "output_type": "execute_result"
    }
   ],
   "source": [
    "ap_dual_satact_df = ap_dual_df.merge(df_sat_act, how= 'inner', on = 'LEAID')\n",
    "\n",
    "ap_dual_satact_df"
   ],
   "metadata": {
    "collapsed": false,
    "ExecuteTime": {
     "end_time": "2023-10-29T14:12:00.839400900Z",
     "start_time": "2023-10-29T14:12:00.816200900Z"
    }
   },
   "id": "292e486825a2ebae"
  },
  {
   "cell_type": "code",
   "execution_count": 131,
   "outputs": [
    {
     "data": {
      "text/plain": "         TOT_APEXAM_ONEORMORE  TOT_DUAL  TOT_SATACT   CBSA  \\\nLEAID                                                        \n0100005                   286        34         363  10700   \n0100006                   597       108         382  10700   \n0100007                   926       227        1836  13820   \n0100008                   701       176        1012  26620   \n0100011                   105         1          97  13820   \n...                       ...       ...         ...    ...   \n5605695                   137        65         314  43260   \n5605762                    55        98         287  40540   \n5605830                   242       424         176  27220   \n5606090                     6        41          18      0   \n5606240                    43        52          42      0   \n\n                              NAME_CBSA17  \nLEAID                                      \n0100005        Albertville, AL Micro Area  \n0100006        Albertville, AL Micro Area  \n0100007  Birmingham-Hoover, AL Metro Area  \n0100008         Huntsville, AL Metro Area  \n0100011  Birmingham-Hoover, AL Metro Area  \n...                                   ...  \n5605695           Sheridan, WY Micro Area  \n5605762       Rock Springs, WY Micro Area  \n5605830         Jackson, WY-ID Micro Area  \n5606090                       NOT IN CBSA  \n5606240                       NOT IN CBSA  \n\n[6258 rows x 5 columns]",
      "text/html": "<div>\n<style scoped>\n    .dataframe tbody tr th:only-of-type {\n        vertical-align: middle;\n    }\n\n    .dataframe tbody tr th {\n        vertical-align: top;\n    }\n\n    .dataframe thead th {\n        text-align: right;\n    }\n</style>\n<table border=\"1\" class=\"dataframe\">\n  <thead>\n    <tr style=\"text-align: right;\">\n      <th></th>\n      <th>TOT_APEXAM_ONEORMORE</th>\n      <th>TOT_DUAL</th>\n      <th>TOT_SATACT</th>\n      <th>CBSA</th>\n      <th>NAME_CBSA17</th>\n    </tr>\n    <tr>\n      <th>LEAID</th>\n      <th></th>\n      <th></th>\n      <th></th>\n      <th></th>\n      <th></th>\n    </tr>\n  </thead>\n  <tbody>\n    <tr>\n      <th>0100005</th>\n      <td>286</td>\n      <td>34</td>\n      <td>363</td>\n      <td>10700</td>\n      <td>Albertville, AL Micro Area</td>\n    </tr>\n    <tr>\n      <th>0100006</th>\n      <td>597</td>\n      <td>108</td>\n      <td>382</td>\n      <td>10700</td>\n      <td>Albertville, AL Micro Area</td>\n    </tr>\n    <tr>\n      <th>0100007</th>\n      <td>926</td>\n      <td>227</td>\n      <td>1836</td>\n      <td>13820</td>\n      <td>Birmingham-Hoover, AL Metro Area</td>\n    </tr>\n    <tr>\n      <th>0100008</th>\n      <td>701</td>\n      <td>176</td>\n      <td>1012</td>\n      <td>26620</td>\n      <td>Huntsville, AL Metro Area</td>\n    </tr>\n    <tr>\n      <th>0100011</th>\n      <td>105</td>\n      <td>1</td>\n      <td>97</td>\n      <td>13820</td>\n      <td>Birmingham-Hoover, AL Metro Area</td>\n    </tr>\n    <tr>\n      <th>...</th>\n      <td>...</td>\n      <td>...</td>\n      <td>...</td>\n      <td>...</td>\n      <td>...</td>\n    </tr>\n    <tr>\n      <th>5605695</th>\n      <td>137</td>\n      <td>65</td>\n      <td>314</td>\n      <td>43260</td>\n      <td>Sheridan, WY Micro Area</td>\n    </tr>\n    <tr>\n      <th>5605762</th>\n      <td>55</td>\n      <td>98</td>\n      <td>287</td>\n      <td>40540</td>\n      <td>Rock Springs, WY Micro Area</td>\n    </tr>\n    <tr>\n      <th>5605830</th>\n      <td>242</td>\n      <td>424</td>\n      <td>176</td>\n      <td>27220</td>\n      <td>Jackson, WY-ID Micro Area</td>\n    </tr>\n    <tr>\n      <th>5606090</th>\n      <td>6</td>\n      <td>41</td>\n      <td>18</td>\n      <td>0</td>\n      <td>NOT IN CBSA</td>\n    </tr>\n    <tr>\n      <th>5606240</th>\n      <td>43</td>\n      <td>52</td>\n      <td>42</td>\n      <td>0</td>\n      <td>NOT IN CBSA</td>\n    </tr>\n  </tbody>\n</table>\n<p>6258 rows × 5 columns</p>\n</div>"
     },
     "execution_count": 131,
     "metadata": {},
     "output_type": "execute_result"
    }
   ],
   "source": [
    "ap_dual_satact_cbsa_df = ap_dual_satact_df.merge(df_cbsa, how= 'inner', on = 'LEAID')\n",
    "\n",
    "ap_dual_satact_cbsa_df"
   ],
   "metadata": {
    "collapsed": false,
    "ExecuteTime": {
     "end_time": "2023-10-29T15:08:18.728014Z",
     "start_time": "2023-10-29T15:08:18.696729600Z"
    }
   },
   "id": "e1d878e317da8422"
  },
  {
   "cell_type": "code",
   "execution_count": 132,
   "outputs": [
    {
     "data": {
      "text/plain": "         TOT_APEXAM_ONEORMORE  TOT_DUAL  TOT_SATACT   CBSA  \\\nLEAID                                                        \n0100005                   286        34         363  10700   \n0100006                   597       108         382  10700   \n0100007                   926       227        1836  13820   \n0100008                   701       176        1012  26620   \n0100011                   105         1          97  13820   \n...                       ...       ...         ...    ...   \n5605695                   137        65         314  43260   \n5605762                    55        98         287  40540   \n5605830                   242       424         176  27220   \n5606090                     6        41          18      0   \n5606240                    43        52          42      0   \n\n                              NAME_CBSA17  LEA_ENR  \nLEAID                                               \n0100005        Albertville, AL Micro Area     5445  \n0100006        Albertville, AL Micro Area     5698  \n0100007  Birmingham-Hoover, AL Metro Area    14372  \n0100008         Huntsville, AL Metro Area    10810  \n0100011  Birmingham-Hoover, AL Metro Area     2027  \n...                                   ...      ...  \n5605695           Sheridan, WY Micro Area     3546  \n5605762       Rock Springs, WY Micro Area     2607  \n5605830         Jackson, WY-ID Micro Area     2871  \n5606090                       NOT IN CBSA      256  \n5606240                       NOT IN CBSA     1284  \n\n[6258 rows x 6 columns]",
      "text/html": "<div>\n<style scoped>\n    .dataframe tbody tr th:only-of-type {\n        vertical-align: middle;\n    }\n\n    .dataframe tbody tr th {\n        vertical-align: top;\n    }\n\n    .dataframe thead th {\n        text-align: right;\n    }\n</style>\n<table border=\"1\" class=\"dataframe\">\n  <thead>\n    <tr style=\"text-align: right;\">\n      <th></th>\n      <th>TOT_APEXAM_ONEORMORE</th>\n      <th>TOT_DUAL</th>\n      <th>TOT_SATACT</th>\n      <th>CBSA</th>\n      <th>NAME_CBSA17</th>\n      <th>LEA_ENR</th>\n    </tr>\n    <tr>\n      <th>LEAID</th>\n      <th></th>\n      <th></th>\n      <th></th>\n      <th></th>\n      <th></th>\n      <th></th>\n    </tr>\n  </thead>\n  <tbody>\n    <tr>\n      <th>0100005</th>\n      <td>286</td>\n      <td>34</td>\n      <td>363</td>\n      <td>10700</td>\n      <td>Albertville, AL Micro Area</td>\n      <td>5445</td>\n    </tr>\n    <tr>\n      <th>0100006</th>\n      <td>597</td>\n      <td>108</td>\n      <td>382</td>\n      <td>10700</td>\n      <td>Albertville, AL Micro Area</td>\n      <td>5698</td>\n    </tr>\n    <tr>\n      <th>0100007</th>\n      <td>926</td>\n      <td>227</td>\n      <td>1836</td>\n      <td>13820</td>\n      <td>Birmingham-Hoover, AL Metro Area</td>\n      <td>14372</td>\n    </tr>\n    <tr>\n      <th>0100008</th>\n      <td>701</td>\n      <td>176</td>\n      <td>1012</td>\n      <td>26620</td>\n      <td>Huntsville, AL Metro Area</td>\n      <td>10810</td>\n    </tr>\n    <tr>\n      <th>0100011</th>\n      <td>105</td>\n      <td>1</td>\n      <td>97</td>\n      <td>13820</td>\n      <td>Birmingham-Hoover, AL Metro Area</td>\n      <td>2027</td>\n    </tr>\n    <tr>\n      <th>...</th>\n      <td>...</td>\n      <td>...</td>\n      <td>...</td>\n      <td>...</td>\n      <td>...</td>\n      <td>...</td>\n    </tr>\n    <tr>\n      <th>5605695</th>\n      <td>137</td>\n      <td>65</td>\n      <td>314</td>\n      <td>43260</td>\n      <td>Sheridan, WY Micro Area</td>\n      <td>3546</td>\n    </tr>\n    <tr>\n      <th>5605762</th>\n      <td>55</td>\n      <td>98</td>\n      <td>287</td>\n      <td>40540</td>\n      <td>Rock Springs, WY Micro Area</td>\n      <td>2607</td>\n    </tr>\n    <tr>\n      <th>5605830</th>\n      <td>242</td>\n      <td>424</td>\n      <td>176</td>\n      <td>27220</td>\n      <td>Jackson, WY-ID Micro Area</td>\n      <td>2871</td>\n    </tr>\n    <tr>\n      <th>5606090</th>\n      <td>6</td>\n      <td>41</td>\n      <td>18</td>\n      <td>0</td>\n      <td>NOT IN CBSA</td>\n      <td>256</td>\n    </tr>\n    <tr>\n      <th>5606240</th>\n      <td>43</td>\n      <td>52</td>\n      <td>42</td>\n      <td>0</td>\n      <td>NOT IN CBSA</td>\n      <td>1284</td>\n    </tr>\n  </tbody>\n</table>\n<p>6258 rows × 6 columns</p>\n</div>"
     },
     "execution_count": 132,
     "metadata": {},
     "output_type": "execute_result"
    }
   ],
   "source": [
    "ap_dual_satact_cbsa_enr_df = ap_dual_satact_cbsa_df.merge(df_enr, how= 'inner', on = 'LEAID')\n",
    "\n",
    "ap_dual_satact_cbsa_enr_df"
   ],
   "metadata": {
    "collapsed": false,
    "ExecuteTime": {
     "end_time": "2023-10-29T15:09:05.791007800Z",
     "start_time": "2023-10-29T15:09:05.743821400Z"
    }
   },
   "id": "6153ab867e62d137"
  },
  {
   "cell_type": "code",
   "execution_count": 136,
   "outputs": [
    {
     "data": {
      "text/plain": "          CBSA                       NAME_CBSA17  LEA_ENR  \\\nLEAID                                                       \n0100005  10700        Albertville, AL Micro Area     5445   \n0100006  10700        Albertville, AL Micro Area     5698   \n0100007  13820  Birmingham-Hoover, AL Metro Area    14372   \n0100008  26620         Huntsville, AL Metro Area    10810   \n0100011  13820  Birmingham-Hoover, AL Metro Area     2027   \n...        ...                               ...      ...   \n5605695  43260           Sheridan, WY Micro Area     3546   \n5605762  40540       Rock Springs, WY Micro Area     2607   \n5605830  27220         Jackson, WY-ID Micro Area     2871   \n5606090      0                       NOT IN CBSA      256   \n5606240      0                       NOT IN CBSA     1284   \n\n         TOT_APEXAM_ONEORMORE  TOT_DUAL  TOT_SATACT  \nLEAID                                                \n0100005                   286        34         363  \n0100006                   597       108         382  \n0100007                   926       227        1836  \n0100008                   701       176        1012  \n0100011                   105         1          97  \n...                       ...       ...         ...  \n5605695                   137        65         314  \n5605762                    55        98         287  \n5605830                   242       424         176  \n5606090                     6        41          18  \n5606240                    43        52          42  \n\n[6258 rows x 6 columns]",
      "text/html": "<div>\n<style scoped>\n    .dataframe tbody tr th:only-of-type {\n        vertical-align: middle;\n    }\n\n    .dataframe tbody tr th {\n        vertical-align: top;\n    }\n\n    .dataframe thead th {\n        text-align: right;\n    }\n</style>\n<table border=\"1\" class=\"dataframe\">\n  <thead>\n    <tr style=\"text-align: right;\">\n      <th></th>\n      <th>CBSA</th>\n      <th>NAME_CBSA17</th>\n      <th>LEA_ENR</th>\n      <th>TOT_APEXAM_ONEORMORE</th>\n      <th>TOT_DUAL</th>\n      <th>TOT_SATACT</th>\n    </tr>\n    <tr>\n      <th>LEAID</th>\n      <th></th>\n      <th></th>\n      <th></th>\n      <th></th>\n      <th></th>\n      <th></th>\n    </tr>\n  </thead>\n  <tbody>\n    <tr>\n      <th>0100005</th>\n      <td>10700</td>\n      <td>Albertville, AL Micro Area</td>\n      <td>5445</td>\n      <td>286</td>\n      <td>34</td>\n      <td>363</td>\n    </tr>\n    <tr>\n      <th>0100006</th>\n      <td>10700</td>\n      <td>Albertville, AL Micro Area</td>\n      <td>5698</td>\n      <td>597</td>\n      <td>108</td>\n      <td>382</td>\n    </tr>\n    <tr>\n      <th>0100007</th>\n      <td>13820</td>\n      <td>Birmingham-Hoover, AL Metro Area</td>\n      <td>14372</td>\n      <td>926</td>\n      <td>227</td>\n      <td>1836</td>\n    </tr>\n    <tr>\n      <th>0100008</th>\n      <td>26620</td>\n      <td>Huntsville, AL Metro Area</td>\n      <td>10810</td>\n      <td>701</td>\n      <td>176</td>\n      <td>1012</td>\n    </tr>\n    <tr>\n      <th>0100011</th>\n      <td>13820</td>\n      <td>Birmingham-Hoover, AL Metro Area</td>\n      <td>2027</td>\n      <td>105</td>\n      <td>1</td>\n      <td>97</td>\n    </tr>\n    <tr>\n      <th>...</th>\n      <td>...</td>\n      <td>...</td>\n      <td>...</td>\n      <td>...</td>\n      <td>...</td>\n      <td>...</td>\n    </tr>\n    <tr>\n      <th>5605695</th>\n      <td>43260</td>\n      <td>Sheridan, WY Micro Area</td>\n      <td>3546</td>\n      <td>137</td>\n      <td>65</td>\n      <td>314</td>\n    </tr>\n    <tr>\n      <th>5605762</th>\n      <td>40540</td>\n      <td>Rock Springs, WY Micro Area</td>\n      <td>2607</td>\n      <td>55</td>\n      <td>98</td>\n      <td>287</td>\n    </tr>\n    <tr>\n      <th>5605830</th>\n      <td>27220</td>\n      <td>Jackson, WY-ID Micro Area</td>\n      <td>2871</td>\n      <td>242</td>\n      <td>424</td>\n      <td>176</td>\n    </tr>\n    <tr>\n      <th>5606090</th>\n      <td>0</td>\n      <td>NOT IN CBSA</td>\n      <td>256</td>\n      <td>6</td>\n      <td>41</td>\n      <td>18</td>\n    </tr>\n    <tr>\n      <th>5606240</th>\n      <td>0</td>\n      <td>NOT IN CBSA</td>\n      <td>1284</td>\n      <td>43</td>\n      <td>52</td>\n      <td>42</td>\n    </tr>\n  </tbody>\n</table>\n<p>6258 rows × 6 columns</p>\n</div>"
     },
     "execution_count": 136,
     "metadata": {},
     "output_type": "execute_result"
    }
   ],
   "source": [
    "new_order = ['CBSA', 'NAME_CBSA17', 'LEA_ENR', 'TOT_APEXAM_ONEORMORE', 'TOT_DUAL', 'TOT_SATACT']\n",
    "\n",
    "complete_df = ap_dual_satact_cbsa_enr_df[new_order]\n",
    "\n",
    "complete_df"
   ],
   "metadata": {
    "collapsed": false,
    "ExecuteTime": {
     "end_time": "2023-10-29T15:11:22.582410900Z",
     "start_time": "2023-10-29T15:11:22.566568500Z"
    }
   },
   "id": "c3217ecf3e3205b3"
  },
  {
   "cell_type": "code",
   "execution_count": 137,
   "outputs": [
    {
     "data": {
      "text/plain": "          CBSA                                        NAME_CBSA17  LEA_ENR  \\\nLEAID                                                                        \n0100007  13820                   Birmingham-Hoover, AL Metro Area    14372   \n0100008  26620                          Huntsville, AL Metro Area    10810   \n0100011  13820                   Birmingham-Hoover, AL Metro Area     2027   \n0100012  34160   Albertville, AL Micro AreaGadsden, AL Metro Area     2379   \n0100013  13820                   Birmingham-Hoover, AL Metro Area     4561   \n...        ...                                                ...      ...   \n5517040  44200  NOT IN CBSABaraboo, WI Micro AreaMadison, WI M...     1713   \n5517100  91160        Shawano, WI Micro AreaWausau, WI Metro Area     1164   \n5517190  36120    Appleton, WI Metro AreaGreen Bay, WI Metro Area     1336   \n5601980  16940                            Cheyenne, WY Metro Area    14274   \n5604510  16220                              Casper, WY Metro Area    13272   \n\n         TOT_APEXAM_ONEORMORE  TOT_DUAL  TOT_SATACT  \nLEAID                                                \n0100007                   926       227        1836  \n0100008                   701       176        1012  \n0100011                   105         1          97  \n0100012                   117        23         251  \n0100013                   381        75         357  \n...                       ...       ...         ...  \n5517040                    61       157          89  \n5517100                    37       184          71  \n5517190                    55       198         139  \n5601980                   634       740        1120  \n5604510                   164       502        1067  \n\n[4241 rows x 6 columns]",
      "text/html": "<div>\n<style scoped>\n    .dataframe tbody tr th:only-of-type {\n        vertical-align: middle;\n    }\n\n    .dataframe tbody tr th {\n        vertical-align: top;\n    }\n\n    .dataframe thead th {\n        text-align: right;\n    }\n</style>\n<table border=\"1\" class=\"dataframe\">\n  <thead>\n    <tr style=\"text-align: right;\">\n      <th></th>\n      <th>CBSA</th>\n      <th>NAME_CBSA17</th>\n      <th>LEA_ENR</th>\n      <th>TOT_APEXAM_ONEORMORE</th>\n      <th>TOT_DUAL</th>\n      <th>TOT_SATACT</th>\n    </tr>\n    <tr>\n      <th>LEAID</th>\n      <th></th>\n      <th></th>\n      <th></th>\n      <th></th>\n      <th></th>\n      <th></th>\n    </tr>\n  </thead>\n  <tbody>\n    <tr>\n      <th>0100007</th>\n      <td>13820</td>\n      <td>Birmingham-Hoover, AL Metro Area</td>\n      <td>14372</td>\n      <td>926</td>\n      <td>227</td>\n      <td>1836</td>\n    </tr>\n    <tr>\n      <th>0100008</th>\n      <td>26620</td>\n      <td>Huntsville, AL Metro Area</td>\n      <td>10810</td>\n      <td>701</td>\n      <td>176</td>\n      <td>1012</td>\n    </tr>\n    <tr>\n      <th>0100011</th>\n      <td>13820</td>\n      <td>Birmingham-Hoover, AL Metro Area</td>\n      <td>2027</td>\n      <td>105</td>\n      <td>1</td>\n      <td>97</td>\n    </tr>\n    <tr>\n      <th>0100012</th>\n      <td>34160</td>\n      <td>Albertville, AL Micro AreaGadsden, AL Metro Area</td>\n      <td>2379</td>\n      <td>117</td>\n      <td>23</td>\n      <td>251</td>\n    </tr>\n    <tr>\n      <th>0100013</th>\n      <td>13820</td>\n      <td>Birmingham-Hoover, AL Metro Area</td>\n      <td>4561</td>\n      <td>381</td>\n      <td>75</td>\n      <td>357</td>\n    </tr>\n    <tr>\n      <th>...</th>\n      <td>...</td>\n      <td>...</td>\n      <td>...</td>\n      <td>...</td>\n      <td>...</td>\n      <td>...</td>\n    </tr>\n    <tr>\n      <th>5517040</th>\n      <td>44200</td>\n      <td>NOT IN CBSABaraboo, WI Micro AreaMadison, WI M...</td>\n      <td>1713</td>\n      <td>61</td>\n      <td>157</td>\n      <td>89</td>\n    </tr>\n    <tr>\n      <th>5517100</th>\n      <td>91160</td>\n      <td>Shawano, WI Micro AreaWausau, WI Metro Area</td>\n      <td>1164</td>\n      <td>37</td>\n      <td>184</td>\n      <td>71</td>\n    </tr>\n    <tr>\n      <th>5517190</th>\n      <td>36120</td>\n      <td>Appleton, WI Metro AreaGreen Bay, WI Metro Area</td>\n      <td>1336</td>\n      <td>55</td>\n      <td>198</td>\n      <td>139</td>\n    </tr>\n    <tr>\n      <th>5601980</th>\n      <td>16940</td>\n      <td>Cheyenne, WY Metro Area</td>\n      <td>14274</td>\n      <td>634</td>\n      <td>740</td>\n      <td>1120</td>\n    </tr>\n    <tr>\n      <th>5604510</th>\n      <td>16220</td>\n      <td>Casper, WY Metro Area</td>\n      <td>13272</td>\n      <td>164</td>\n      <td>502</td>\n      <td>1067</td>\n    </tr>\n  </tbody>\n</table>\n<p>4241 rows × 6 columns</p>\n</div>"
     },
     "execution_count": 137,
     "metadata": {},
     "output_type": "execute_result"
    }
   ],
   "source": [
    "metro_regex = r'\\bMetro\\b'\n",
    "\n",
    "metro_mask = complete_df['NAME_CBSA17'].str.contains(metro_regex, case=True, regex=True)\n",
    "\n",
    "metro_df = complete_df[metro_mask]\n",
    "\n",
    "metro_df"
   ],
   "metadata": {
    "collapsed": false,
    "ExecuteTime": {
     "end_time": "2023-10-29T15:11:23.576310100Z",
     "start_time": "2023-10-29T15:11:23.570237900Z"
    }
   },
   "id": "c877d981cc8c95a7"
  },
  {
   "cell_type": "code",
   "execution_count": 138,
   "outputs": [
    {
     "data": {
      "text/plain": "{'ap': 0.053765775328204035,\n 'dual': 0.031254668241661496,\n 'sat_act': 0.07988554872009455}"
     },
     "execution_count": 138,
     "metadata": {},
     "output_type": "execute_result"
    }
   ],
   "source": [
    "metro_ap_average = metro_df['TOT_APEXAM_ONEORMORE'].mean()\n",
    "metro_dual_average = metro_df['TOT_DUAL'].mean()\n",
    "metro_sat_act_average = metro_df['TOT_SATACT'].mean()\n",
    "metro_enr_average = metro_df['LEA_ENR'].mean()\n",
    "\n",
    "metro_average_dict = {\n",
    "    'ap': metro_ap_average / metro_enr_average,\n",
    "    'dual': metro_dual_average / metro_enr_average,\n",
    "    'sat_act': metro_sat_act_average / metro_enr_average\n",
    "}\n",
    "\n",
    "metro_average_dict"
   ],
   "metadata": {
    "collapsed": false,
    "ExecuteTime": {
     "end_time": "2023-10-29T15:12:01.188033400Z",
     "start_time": "2023-10-29T15:12:01.141077400Z"
    }
   },
   "id": "d444ba5b8245f4d"
  },
  {
   "cell_type": "code",
   "execution_count": 139,
   "outputs": [
    {
     "data": {
      "text/plain": "          CBSA                                       NAME_CBSA17  LEA_ENR  \\\nLEAID                                                                       \n0100005  10700                        Albertville, AL Micro Area     5445   \n0100006  10700                        Albertville, AL Micro Area     5698   \n0100012  34160  Albertville, AL Micro AreaGadsden, AL Metro Area     2379   \n0100030  10760                     Alexander City, AL Micro Area     3035   \n0100100  29680  Albertville, AL Micro AreaCullman, AL Micro Area     2603   \n...        ...                                               ...      ...   \n5602870  40180                           Riverton, WY Micro Area     1778   \n5605302  40540                       Rock Springs, WY Micro Area     5547   \n5605695  43260                           Sheridan, WY Micro Area     3546   \n5605762  40540                       Rock Springs, WY Micro Area     2607   \n5605830  27220                         Jackson, WY-ID Micro Area     2871   \n\n         TOT_APEXAM_ONEORMORE  TOT_DUAL  TOT_SATACT  \nLEAID                                                \n0100005                   286        34         363  \n0100006                   597       108         382  \n0100012                   117        23         251  \n0100030                   124        29         227  \n0100100                   168        10         173  \n...                       ...       ...         ...  \n5602870                    83       188         160  \n5605302                   168       116         153  \n5605695                   137        65         314  \n5605762                    55        98         287  \n5605830                   242       424         176  \n\n[1558 rows x 6 columns]",
      "text/html": "<div>\n<style scoped>\n    .dataframe tbody tr th:only-of-type {\n        vertical-align: middle;\n    }\n\n    .dataframe tbody tr th {\n        vertical-align: top;\n    }\n\n    .dataframe thead th {\n        text-align: right;\n    }\n</style>\n<table border=\"1\" class=\"dataframe\">\n  <thead>\n    <tr style=\"text-align: right;\">\n      <th></th>\n      <th>CBSA</th>\n      <th>NAME_CBSA17</th>\n      <th>LEA_ENR</th>\n      <th>TOT_APEXAM_ONEORMORE</th>\n      <th>TOT_DUAL</th>\n      <th>TOT_SATACT</th>\n    </tr>\n    <tr>\n      <th>LEAID</th>\n      <th></th>\n      <th></th>\n      <th></th>\n      <th></th>\n      <th></th>\n      <th></th>\n    </tr>\n  </thead>\n  <tbody>\n    <tr>\n      <th>0100005</th>\n      <td>10700</td>\n      <td>Albertville, AL Micro Area</td>\n      <td>5445</td>\n      <td>286</td>\n      <td>34</td>\n      <td>363</td>\n    </tr>\n    <tr>\n      <th>0100006</th>\n      <td>10700</td>\n      <td>Albertville, AL Micro Area</td>\n      <td>5698</td>\n      <td>597</td>\n      <td>108</td>\n      <td>382</td>\n    </tr>\n    <tr>\n      <th>0100012</th>\n      <td>34160</td>\n      <td>Albertville, AL Micro AreaGadsden, AL Metro Area</td>\n      <td>2379</td>\n      <td>117</td>\n      <td>23</td>\n      <td>251</td>\n    </tr>\n    <tr>\n      <th>0100030</th>\n      <td>10760</td>\n      <td>Alexander City, AL Micro Area</td>\n      <td>3035</td>\n      <td>124</td>\n      <td>29</td>\n      <td>227</td>\n    </tr>\n    <tr>\n      <th>0100100</th>\n      <td>29680</td>\n      <td>Albertville, AL Micro AreaCullman, AL Micro Area</td>\n      <td>2603</td>\n      <td>168</td>\n      <td>10</td>\n      <td>173</td>\n    </tr>\n    <tr>\n      <th>...</th>\n      <td>...</td>\n      <td>...</td>\n      <td>...</td>\n      <td>...</td>\n      <td>...</td>\n      <td>...</td>\n    </tr>\n    <tr>\n      <th>5602870</th>\n      <td>40180</td>\n      <td>Riverton, WY Micro Area</td>\n      <td>1778</td>\n      <td>83</td>\n      <td>188</td>\n      <td>160</td>\n    </tr>\n    <tr>\n      <th>5605302</th>\n      <td>40540</td>\n      <td>Rock Springs, WY Micro Area</td>\n      <td>5547</td>\n      <td>168</td>\n      <td>116</td>\n      <td>153</td>\n    </tr>\n    <tr>\n      <th>5605695</th>\n      <td>43260</td>\n      <td>Sheridan, WY Micro Area</td>\n      <td>3546</td>\n      <td>137</td>\n      <td>65</td>\n      <td>314</td>\n    </tr>\n    <tr>\n      <th>5605762</th>\n      <td>40540</td>\n      <td>Rock Springs, WY Micro Area</td>\n      <td>2607</td>\n      <td>55</td>\n      <td>98</td>\n      <td>287</td>\n    </tr>\n    <tr>\n      <th>5605830</th>\n      <td>27220</td>\n      <td>Jackson, WY-ID Micro Area</td>\n      <td>2871</td>\n      <td>242</td>\n      <td>424</td>\n      <td>176</td>\n    </tr>\n  </tbody>\n</table>\n<p>1558 rows × 6 columns</p>\n</div>"
     },
     "execution_count": 139,
     "metadata": {},
     "output_type": "execute_result"
    }
   ],
   "source": [
    "micro_regex = r'\\bMicro\\b'\n",
    "\n",
    "micro_mask = complete_df['NAME_CBSA17'].str.contains(micro_regex, case=True, regex=True)\n",
    "\n",
    "micro_df = complete_df[micro_mask]\n",
    "\n",
    "micro_df"
   ],
   "metadata": {
    "collapsed": false,
    "ExecuteTime": {
     "end_time": "2023-10-29T15:12:12.549419Z",
     "start_time": "2023-10-29T15:12:12.470304500Z"
    }
   },
   "id": "f641a004ca818569"
  },
  {
   "cell_type": "code",
   "execution_count": 140,
   "outputs": [
    {
     "data": {
      "text/plain": "{'ap': 0.02800887523608169,\n 'dual': 0.04287740772563873,\n 'sat_act': 0.07067224581615056}"
     },
     "execution_count": 140,
     "metadata": {},
     "output_type": "execute_result"
    }
   ],
   "source": [
    "micro_ap_average = micro_df['TOT_APEXAM_ONEORMORE'].mean()\n",
    "micro_dual_average = micro_df['TOT_DUAL'].mean()\n",
    "micro_sat_act_average = micro_df['TOT_SATACT'].mean()\n",
    "micro_enr_average = micro_df['LEA_ENR'].mean()\n",
    "\n",
    "micro_average_dict = {\n",
    "    'ap': micro_ap_average / micro_enr_average,\n",
    "    'dual': micro_dual_average / micro_enr_average,\n",
    "    'sat_act': micro_sat_act_average / micro_enr_average\n",
    "}\n",
    "\n",
    "micro_average_dict"
   ],
   "metadata": {
    "collapsed": false,
    "ExecuteTime": {
     "end_time": "2023-10-29T15:12:40.323001200Z",
     "start_time": "2023-10-29T15:12:40.305308400Z"
    }
   },
   "id": "396edd052360537"
  },
  {
   "cell_type": "code",
   "execution_count": 141,
   "outputs": [
    {
     "data": {
      "text/plain": "         CBSA  NAME_CBSA17  LEA_ENR  TOT_APEXAM_ONEORMORE  TOT_DUAL  \\\nLEAID                                                                 \n0100060     0  NOT IN CBSA     1773                     2        36   \n0100630     0  NOT IN CBSA     3939                    57        71   \n0100720     0  NOT IN CBSA     2569                    18        63   \n0100780     0  NOT IN CBSA     2584                   122       131   \n0100930     0  NOT IN CBSA     3117                     6       150   \n...       ...          ...      ...                   ...       ...   \n5604060     0  NOT IN CBSA     2888                    12        12   \n5605090     0  NOT IN CBSA     1047                     9       102   \n5605160     0  NOT IN CBSA     1835                     0       172   \n5606090     0  NOT IN CBSA      256                     6        41   \n5606240     0  NOT IN CBSA     1284                    43        52   \n\n         TOT_SATACT  \nLEAID                \n0100060         126  \n0100630         344  \n0100720         255  \n0100780         161  \n0100930         239  \n...             ...  \n5604060         298  \n5605090          80  \n5605160         187  \n5606090          18  \n5606240          42  \n\n[1461 rows x 6 columns]",
      "text/html": "<div>\n<style scoped>\n    .dataframe tbody tr th:only-of-type {\n        vertical-align: middle;\n    }\n\n    .dataframe tbody tr th {\n        vertical-align: top;\n    }\n\n    .dataframe thead th {\n        text-align: right;\n    }\n</style>\n<table border=\"1\" class=\"dataframe\">\n  <thead>\n    <tr style=\"text-align: right;\">\n      <th></th>\n      <th>CBSA</th>\n      <th>NAME_CBSA17</th>\n      <th>LEA_ENR</th>\n      <th>TOT_APEXAM_ONEORMORE</th>\n      <th>TOT_DUAL</th>\n      <th>TOT_SATACT</th>\n    </tr>\n    <tr>\n      <th>LEAID</th>\n      <th></th>\n      <th></th>\n      <th></th>\n      <th></th>\n      <th></th>\n      <th></th>\n    </tr>\n  </thead>\n  <tbody>\n    <tr>\n      <th>0100060</th>\n      <td>0</td>\n      <td>NOT IN CBSA</td>\n      <td>1773</td>\n      <td>2</td>\n      <td>36</td>\n      <td>126</td>\n    </tr>\n    <tr>\n      <th>0100630</th>\n      <td>0</td>\n      <td>NOT IN CBSA</td>\n      <td>3939</td>\n      <td>57</td>\n      <td>71</td>\n      <td>344</td>\n    </tr>\n    <tr>\n      <th>0100720</th>\n      <td>0</td>\n      <td>NOT IN CBSA</td>\n      <td>2569</td>\n      <td>18</td>\n      <td>63</td>\n      <td>255</td>\n    </tr>\n    <tr>\n      <th>0100780</th>\n      <td>0</td>\n      <td>NOT IN CBSA</td>\n      <td>2584</td>\n      <td>122</td>\n      <td>131</td>\n      <td>161</td>\n    </tr>\n    <tr>\n      <th>0100930</th>\n      <td>0</td>\n      <td>NOT IN CBSA</td>\n      <td>3117</td>\n      <td>6</td>\n      <td>150</td>\n      <td>239</td>\n    </tr>\n    <tr>\n      <th>...</th>\n      <td>...</td>\n      <td>...</td>\n      <td>...</td>\n      <td>...</td>\n      <td>...</td>\n      <td>...</td>\n    </tr>\n    <tr>\n      <th>5604060</th>\n      <td>0</td>\n      <td>NOT IN CBSA</td>\n      <td>2888</td>\n      <td>12</td>\n      <td>12</td>\n      <td>298</td>\n    </tr>\n    <tr>\n      <th>5605090</th>\n      <td>0</td>\n      <td>NOT IN CBSA</td>\n      <td>1047</td>\n      <td>9</td>\n      <td>102</td>\n      <td>80</td>\n    </tr>\n    <tr>\n      <th>5605160</th>\n      <td>0</td>\n      <td>NOT IN CBSA</td>\n      <td>1835</td>\n      <td>0</td>\n      <td>172</td>\n      <td>187</td>\n    </tr>\n    <tr>\n      <th>5606090</th>\n      <td>0</td>\n      <td>NOT IN CBSA</td>\n      <td>256</td>\n      <td>6</td>\n      <td>41</td>\n      <td>18</td>\n    </tr>\n    <tr>\n      <th>5606240</th>\n      <td>0</td>\n      <td>NOT IN CBSA</td>\n      <td>1284</td>\n      <td>43</td>\n      <td>52</td>\n      <td>42</td>\n    </tr>\n  </tbody>\n</table>\n<p>1461 rows × 6 columns</p>\n</div>"
     },
     "execution_count": 141,
     "metadata": {},
     "output_type": "execute_result"
    }
   ],
   "source": [
    "not_regex = r'\\bNOT\\b'\n",
    "\n",
    "not_mask = complete_df['NAME_CBSA17'].str.contains(not_regex, case=True, regex=True)\n",
    "\n",
    "not_df = complete_df[not_mask]\n",
    "\n",
    "not_df"
   ],
   "metadata": {
    "collapsed": false,
    "ExecuteTime": {
     "end_time": "2023-10-29T15:13:16.983183100Z",
     "start_time": "2023-10-29T15:13:16.961772400Z"
    }
   },
   "id": "f1c44eff5591690b"
  },
  {
   "cell_type": "code",
   "execution_count": 142,
   "outputs": [
    {
     "data": {
      "text/plain": "{'ap': 0.023013494417441806,\n 'dual': 0.04590138926822496,\n 'sat_act': 0.0709313276376594}"
     },
     "execution_count": 142,
     "metadata": {},
     "output_type": "execute_result"
    }
   ],
   "source": [
    "not_ap_average = not_df['TOT_APEXAM_ONEORMORE'].mean()\n",
    "not_dual_average = not_df['TOT_DUAL'].mean()\n",
    "not_sat_act_average = not_df['TOT_SATACT'].mean()\n",
    "not_enr_average = not_df['LEA_ENR'].mean()\n",
    "\n",
    "not_average_dict = {\n",
    "    'ap': not_ap_average / not_enr_average,\n",
    "    'dual': not_dual_average / not_enr_average,\n",
    "    'sat_act': not_sat_act_average / not_enr_average\n",
    "}\n",
    "\n",
    "not_average_dict"
   ],
   "metadata": {
    "collapsed": false,
    "ExecuteTime": {
     "end_time": "2023-10-29T15:13:51.342686300Z",
     "start_time": "2023-10-29T15:13:51.327247200Z"
    }
   },
   "id": "cb1a7a2a6b76eacb"
  },
  {
   "cell_type": "code",
   "execution_count": 122,
   "outputs": [],
   "source": [],
   "metadata": {
    "collapsed": false
   },
   "id": "9be10b5dd38e76c"
  },
  {
   "cell_type": "code",
   "execution_count": 127,
   "outputs": [
    {
     "data": {
      "text/plain": "         LEA_ENR\nLEAID           \n0100002      280\n0100005     5445\n0100006     5698\n0100007    14372\n0100008    10810\n...          ...\n5680251      162\n5680252       34\n5680254      243\n5680255       31\n7200030   348303\n\n[17603 rows x 1 columns]",
      "text/html": "<div>\n<style scoped>\n    .dataframe tbody tr th:only-of-type {\n        vertical-align: middle;\n    }\n\n    .dataframe tbody tr th {\n        vertical-align: top;\n    }\n\n    .dataframe thead th {\n        text-align: right;\n    }\n</style>\n<table border=\"1\" class=\"dataframe\">\n  <thead>\n    <tr style=\"text-align: right;\">\n      <th></th>\n      <th>LEA_ENR</th>\n    </tr>\n    <tr>\n      <th>LEAID</th>\n      <th></th>\n    </tr>\n  </thead>\n  <tbody>\n    <tr>\n      <th>0100002</th>\n      <td>280</td>\n    </tr>\n    <tr>\n      <th>0100005</th>\n      <td>5445</td>\n    </tr>\n    <tr>\n      <th>0100006</th>\n      <td>5698</td>\n    </tr>\n    <tr>\n      <th>0100007</th>\n      <td>14372</td>\n    </tr>\n    <tr>\n      <th>0100008</th>\n      <td>10810</td>\n    </tr>\n    <tr>\n      <th>...</th>\n      <td>...</td>\n    </tr>\n    <tr>\n      <th>5680251</th>\n      <td>162</td>\n    </tr>\n    <tr>\n      <th>5680252</th>\n      <td>34</td>\n    </tr>\n    <tr>\n      <th>5680254</th>\n      <td>243</td>\n    </tr>\n    <tr>\n      <th>5680255</th>\n      <td>31</td>\n    </tr>\n    <tr>\n      <th>7200030</th>\n      <td>348303</td>\n    </tr>\n  </tbody>\n</table>\n<p>17603 rows × 1 columns</p>\n</div>"
     },
     "execution_count": 127,
     "metadata": {},
     "output_type": "execute_result"
    }
   ],
   "source": [],
   "metadata": {
    "collapsed": false,
    "ExecuteTime": {
     "end_time": "2023-10-29T15:05:04.705015300Z",
     "start_time": "2023-10-29T15:05:04.642320300Z"
    }
   },
   "id": "97cf0133a73039fb"
  },
  {
   "cell_type": "code",
   "execution_count": null,
   "outputs": [],
   "source": [],
   "metadata": {
    "collapsed": false
   },
   "id": "7cb5513ffa9a11d7"
  }
 ],
 "metadata": {
  "kernelspec": {
   "display_name": "Python 3",
   "language": "python",
   "name": "python3"
  },
  "language_info": {
   "codemirror_mode": {
    "name": "ipython",
    "version": 2
   },
   "file_extension": ".py",
   "mimetype": "text/x-python",
   "name": "python",
   "nbconvert_exporter": "python",
   "pygments_lexer": "ipython2",
   "version": "2.7.6"
  }
 },
 "nbformat": 4,
 "nbformat_minor": 5
}
