{
 "cells": [
  {
   "cell_type": "markdown",
   "source": [
    "# File Objective: `MatLab Testing`\n",
    "### Test compatibility with Python and Matlab while using Dataspell\n",
    "###### Created: 10/27/2023"
   ],
   "metadata": {
    "collapsed": false
   },
   "id": "42e1b097099a1867"
  },
  {
   "cell_type": "code",
   "execution_count": 4,
   "outputs": [
    {
     "name": "stdout",
     "output_type": "stream",
     "text": [
      "Hello, World!\n"
     ]
    }
   ],
   "source": [
    "# test python works\n",
    "\n",
    "print(\"Hello, World!\")"
   ],
   "metadata": {
    "collapsed": false,
    "ExecuteTime": {
     "end_time": "2023-10-27T20:35:59.688717600Z",
     "start_time": "2023-10-27T20:35:59.662278700Z"
    }
   },
   "id": "ef10228e75dce20c"
  },
  {
   "cell_type": "markdown",
   "source": [
    "## Basic usage:\n",
    "\n",
    "#### 1. Import MatLab Engine\n",
    "#### 2. Function Basics\n",
    "#### 3. Visualize Data with Example"
   ],
   "metadata": {
    "collapsed": false
   },
   "id": "1bb6b120c22e2507"
  },
  {
   "cell_type": "markdown",
   "source": [
    "### Step 1: `Windows x64 configuration`\n",
    "#### Install MatLab Engine API for python\n",
    "##### 1. Open Windows terminal\n",
    "##### 2. Navigate to MATLAB's Python directory: `cd \"C:\\Program Files\\MATLAB\\R2023b\\extern\\engines\\python\"`\n",
    "###### * NOTE: path to directory may be different depending on custom configurations; in this case, LOCATE the matlab root directory then navigate through this path `\"\\extern\\engines\\python\"`\n",
    "###### * NOTE EX: `cd \"<custom_matlabroot>\\extern\\engines\\python\"`\n",
    "##### 3. Run command: `python -m install .`\n",
    "###### * NOTE: if error is thrown, run command: `python -m pip install matlabengine`\n",
    "##### 4. Restart current file (close and re-open) \n",
    "##### 5. import MATLAB library (code 1.1)\n",
    "##### 6. Start MATLAB engine to ensure setup was successful (code 1.2)\n",
    "##### 7. Quit MATLAB engine when done using (code 1.3)"
   ],
   "metadata": {
    "collapsed": false
   },
   "id": "e48596fc7015670c"
  },
  {
   "cell_type": "code",
   "execution_count": 1,
   "outputs": [],
   "source": [
    "# 1.1\n",
    "import matlab.engine"
   ],
   "metadata": {
    "collapsed": false,
    "ExecuteTime": {
     "end_time": "2023-10-28T01:18:30.481135700Z",
     "start_time": "2023-10-28T01:18:29.905230500Z"
    }
   },
   "id": "713368f8e9d69edf"
  },
  {
   "cell_type": "code",
   "execution_count": 9,
   "outputs": [],
   "source": [
    "# 1.2\n",
    "eng_1 = matlab.engine.start_matlab('-desktop')"
   ],
   "metadata": {
    "collapsed": false,
    "ExecuteTime": {
     "end_time": "2023-10-27T20:36:33.562502400Z",
     "start_time": "2023-10-27T20:36:13.482712600Z"
    }
   },
   "id": "8c9a890a600a87f7"
  },
  {
   "cell_type": "code",
   "execution_count": 10,
   "outputs": [],
   "source": [
    "# 1.3\n",
    "eng_1.quit()"
   ],
   "metadata": {
    "collapsed": false,
    "ExecuteTime": {
     "end_time": "2023-10-27T20:36:38.607316Z",
     "start_time": "2023-10-27T20:36:38.585012500Z"
    }
   },
   "id": "ae9520a0cae6c6f4"
  },
  {
   "cell_type": "markdown",
   "source": [
    "### Step 2: `functions`\n",
    "#### Basic implementation\n",
    "##### 1. Run simple MATLAB functions (code 2.1)\n",
    "##### 2. Run MATLAB function from different directory (code 2.2)\n",
    "##### 3. Return multiple arguments from MATLAB function (code 2.3): `func(nargout=<num_args>)`\n"
   ],
   "metadata": {
    "collapsed": false
   },
   "id": "46a19839257368d3"
  },
  {
   "cell_type": "code",
   "execution_count": 9,
   "outputs": [],
   "source": [
    "# setup environment\n",
    "import matlab.engine\n",
    "eng_2 = matlab.engine.start_matlab('-desktop')"
   ],
   "metadata": {
    "collapsed": false,
    "ExecuteTime": {
     "end_time": "2023-10-28T01:53:57.851759600Z",
     "start_time": "2023-10-28T01:53:52.090983700Z"
    }
   },
   "id": "9bb9bff05bc23606"
  },
  {
   "cell_type": "code",
   "execution_count": 10,
   "outputs": [
    {
     "data": {
      "text/plain": "{'is_prime': True, 'arr_len': 3.0, 'arr_sort': ['b', 'e', 'l', 't', 'z']}"
     },
     "execution_count": 10,
     "metadata": {},
     "output_type": "execute_result"
    }
   ],
   "source": [
    "# 2.1\n",
    "final_vals = dict()\n",
    "\n",
    "# use isprime matlab function\n",
    "final_vals['is_prime'] = eng_2.isprime(37)\n",
    "\n",
    "# use length matlab function\n",
    "final_vals['arr_len'] = eng_2.length([0,1,2])\n",
    "\n",
    "# use sort matlab function\n",
    "final_vals['arr_sort'] = eng_2.sort(['z','b','t','l','e'])\n",
    "\n",
    "final_vals"
   ],
   "metadata": {
    "collapsed": false,
    "ExecuteTime": {
     "end_time": "2023-10-28T01:54:04.651063500Z",
     "start_time": "2023-10-28T01:54:04.410666400Z"
    }
   },
   "id": "2c6876fd1909b735"
  },
  {
   "cell_type": "code",
   "execution_count": 11,
   "outputs": [
    {
     "data": {
      "text/plain": "3"
     },
     "execution_count": 11,
     "metadata": {},
     "output_type": "execute_result"
    }
   ],
   "source": [
    "# 2.2\n",
    "eng_2.cd(r'MatLab_Functions', nargout=0)\n",
    "eng_2.basic(1,2)"
   ],
   "metadata": {
    "collapsed": false,
    "ExecuteTime": {
     "end_time": "2023-10-28T01:54:06.975971100Z",
     "start_time": "2023-10-28T01:54:06.927980900Z"
    }
   },
   "id": "506e825a9c47647d"
  },
  {
   "cell_type": "code",
   "execution_count": 12,
   "outputs": [
    {
     "data": {
      "text/plain": "(12, -4, 32, 1)"
     },
     "execution_count": 12,
     "metadata": {},
     "output_type": "execute_result"
    }
   ],
   "source": [
    "# 2.3\n",
    "\n",
    "# returns sum, diff, mult, & div for args\n",
    "multiple_args = eng_2.multiple_operations(4, 8, nargout=4)\n",
    "\n",
    "multiple_args"
   ],
   "metadata": {
    "collapsed": false,
    "ExecuteTime": {
     "end_time": "2023-10-28T01:54:13.736385600Z",
     "start_time": "2023-10-28T01:54:13.719928800Z"
    }
   },
   "id": "52a36120158cfaf9"
  },
  {
   "cell_type": "code",
   "execution_count": 13,
   "outputs": [
    {
     "name": "stdout",
     "output_type": "stream",
     "text": [
      "arg_1: 12\n",
      "arg_2: -4\n",
      "arg_3: 32\n",
      "arg_4: 1\n"
     ]
    }
   ],
   "source": [
    "# extract tuple into separate variables\n",
    "arg_1, arg_2, arg_3, arg_4 = multiple_args\n",
    "\n",
    "print(f'arg_1: {arg_1}')\n",
    "print(f'arg_2: {arg_2}')\n",
    "print(f'arg_3: {arg_3}')\n",
    "print(f'arg_4: {arg_4}')"
   ],
   "metadata": {
    "collapsed": false,
    "ExecuteTime": {
     "end_time": "2023-10-28T02:24:22.790732300Z",
     "start_time": "2023-10-28T02:24:22.786129300Z"
    }
   },
   "id": "f32ca315ac5bebf5"
  },
  {
   "cell_type": "code",
   "execution_count": 14,
   "outputs": [],
   "source": [
    "# remove engine_2 instance\n",
    "eng_2.quit()"
   ],
   "metadata": {
    "collapsed": false,
    "ExecuteTime": {
     "end_time": "2023-10-28T02:36:32.762040600Z",
     "start_time": "2023-10-28T02:36:32.744942700Z"
    }
   },
   "id": "73b5d6e32522b5cc"
  },
  {
   "cell_type": "markdown",
   "source": [
    "### Step 2: `Visualizing`\n",
    "#### Examine Data with Example\n",
    "##### 1. Read in table (code 3.1)"
   ],
   "metadata": {
    "collapsed": false
   },
   "id": "ba652612bf5e7cb7"
  },
  {
   "cell_type": "code",
   "execution_count": 19,
   "outputs": [],
   "source": [
    "# 3.1\n",
    "import matlab.engine\n",
    "\n",
    "eng_3 = matlab.engine.start_matlab('-desktop')\n",
    "eng_3.eval(\"T = readtable('patients.dat');\",nargout=0)"
   ],
   "metadata": {
    "collapsed": false,
    "ExecuteTime": {
     "end_time": "2023-10-28T02:39:46.789087600Z",
     "start_time": "2023-10-28T02:39:34.893675Z"
    }
   },
   "id": "acbf4a04481246a6"
  },
  {
   "cell_type": "code",
   "execution_count": 16,
   "outputs": [],
   "source": [
    "eng_3.eval(\"S = table2struct(T,'ToScalar',true);\",nargout=0)\n",
    "eng_3.eval(\"disp(S)\",nargout=0)"
   ],
   "metadata": {
    "collapsed": false,
    "ExecuteTime": {
     "end_time": "2023-10-28T02:38:24.863088100Z",
     "start_time": "2023-10-28T02:38:24.741755300Z"
    }
   },
   "id": "d394f86727ac2c5b"
  },
  {
   "cell_type": "code",
   "execution_count": null,
   "outputs": [],
   "source": [],
   "metadata": {
    "collapsed": false
   },
   "id": "433646cd18054bf4"
  }
 ],
 "metadata": {
  "kernelspec": {
   "display_name": "Python 3",
   "language": "python",
   "name": "python3"
  },
  "language_info": {
   "codemirror_mode": {
    "name": "ipython",
    "version": 2
   },
   "file_extension": ".py",
   "mimetype": "text/x-python",
   "name": "python",
   "nbconvert_exporter": "python",
   "pygments_lexer": "ipython2",
   "version": "2.7.6"
  }
 },
 "nbformat": 4,
 "nbformat_minor": 5
}
